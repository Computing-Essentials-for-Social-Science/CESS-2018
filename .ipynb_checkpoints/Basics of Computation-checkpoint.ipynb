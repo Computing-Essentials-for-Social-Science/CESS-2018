{
 "cells": [
  {
   "cell_type": "markdown",
   "metadata": {},
   "source": [
    "\n",
    "<span style=\"font-size:3em;text-align:center;display:block;padding-top:2em\"> \n",
    "The Basics of Computation</span>\n",
    "<br><span style=\"font-size:1.5em;text-align:center;display:block;padding:2em\"> CESS 2018<br><br>\n",
    "Jon Atwell and Chris Skovron\n",
    "</span>\n",
    "\n"
   ]
  },
  {
   "cell_type": "markdown",
   "metadata": {},
   "source": [
    "<div style=\"font-size:1.25em\">\n",
    "<br>\n",
    "Most introductions to programming start by having you focus on how to get simple tasks done without explaining what is happening behind the scenes, the actual process of computation. You can absolutely learn programming that way, but in our opinion it is like learning to run regressions before understanding the <em> central limit theorem</em>; you can get interesting results, but eventually someone or something is going to ask you to clarify or fix your process and you won't be able to.\n",
    "<br>\n",
    "<br>\n",
    "While it would be foolish to try distill a quarter's worth of Computer Science 101 into a 90 minute tutorial, this one is going to attempt to clarify what your computer is doing when you execute code. We take the view that knowing a bit more about the process of computation helps to properly contextualize the writing of code as a social skill. The same relationship exists between human communication and human language; the more you come to see successful communication as the goal, the better you'll become at using language to achieve your goals. Learning to better express yourself requires first learning to see your utterances as just the first step in the process of communication and knowing more about the subsequent steps should condition how you take that first step. Thankfully, just as there many ways to successfully use human language, there are many equally good ways to code up a computational task. But recognizing a good way to code is easier if you understand more about what happens once you actually run your code, so we'll start with the basics of computation.\n",
    "<br>\n",
    "<br>\n",
    "    \n",
    "This tutorial will try to be as language agnostic as possible, but it is important to be able to run some code live, so parts of it are written in Python. Those sections will be well-commented and even a complete novice will be able to make sense of code.\n",
    "<br>\n",
    "</div>"
   ]
  },
  {
   "cell_type": "markdown",
   "metadata": {},
   "source": [
    "<br>\n",
    "<br>\n",
    "## Main components of a computer"
   ]
  },
  {
   "cell_type": "markdown",
   "metadata": {},
   "source": [
    "<div style=\"font-size:1.25em\">\n",
    "Let's assume you already have a dataset and script to analysis the data in some way. What needs to happen in your machine to get the results after you run the script? We'll start with the basic architecture of a computer.\n",
    "<br>"
   ]
  },
  {
   "cell_type": "markdown",
   "metadata": {},
   "source": [
    "#### A schematic of the main components\n",
    "(Image [from wikipedia](https://commons.wikimedia.org/wiki/File:CPT-System-Architecture-Stored-Program.svg))"
   ]
  },
  {
   "cell_type": "markdown",
   "metadata": {},
   "source": [
    "<img src=\"images/architecture.png\" style=\"width:80%\">"
   ]
  },
  {
   "cell_type": "markdown",
   "metadata": {},
   "source": [
    "<div style=\"font-size:1.25em\">There are three basic parts of a computer as a computing machine: storage, memory, and the processor. You know at least something about all of these because you bought your computer by looking at its specs, like the **GHz** (speed) of the processor, the **GB** (size) of memory and the **GB** (size) of storage. More is better for all of these and the digital age we live in has been enabled by the fact that _more_ kept getting cheaper and physically smaller. (Although Moore's Law [may cease to hold soon.](https://eandt.theiet.org/content/articles/2017/05/moore-s-law-2017-an-uphill-battle/)) </div>"
   ]
  },
  {
   "cell_type": "markdown",
   "metadata": {},
   "source": [
    "<div style=\"font-size:1.25em\">\n",
    "<br>\n",
    "_But how do these work together?_\n",
    "<br>\n",
    "<br>\n",
    "**Memory and Storage**\n",
    "<br>\n",
    "<br>\n",
    "A first helpful thing to know is the difference between __memory__ and __storage__. These days they're both measured in _gigabytes_ and actually do roughly the same thing, that is, store information. So why do we make a distinction between the two? Well, remember back in high school when you crammed for a history test, probably aced it, and then within two weeks couldn't easily remember the significance, year--maybe even location--of the _Philadelphia Convention_? Just like a computer, we generally don't hold information at the ready if we aren't going to use it soon. If you're a real scholar, you were able to make sure all those historical facts made it into longterm storage. Lots of people who just crammed ended up deleting the content of their memory, either immediately or over the next couple of years.  \n",
    "<br>\n",
    "For computers, there are energy costs associated with keeping information at the ready in __memory__ and time costs associated with getting it out of __storage__, so computers need to strike the right balance in where information is stored. Furthermore, there always needs to be more memory available than the amount of information brought in from storage because computations themselves make use of memory as they hold information about intermediate states that won't be needed later.\n",
    "<br>\n",
    "<br>\n",
    "Intermediate states are very common. Say you want the sum of the following numbers; 11, 24, 37, 50. Your computer (and you probably) would sequentially add these up with a running total. The running total after the first two numbers, 35, is held as a local variable in memory and won't ever get sent to storage. Complex calculations can use up a lot of memory with these intermediate states (a.k.a. variables).\n",
    "<br>\n",
    "<br>\n",
    "So both storage and memory hold information but are distinguishable by how quickly the processor--we'll get to it next--can get to it. It's easy enough to add storage or move information into storage not directly attached to your computer (e.g. external hard drive), so what matters more for computation is the memory. You need enough of it hold all the information you need for a particular computation and to execute that computation. Without enough memory, the computation process breaks down. You may have encountered this problem if you've used older statistical software packages. Because anything running on your computer (music app, browsers, word processors, connections) are using memory, those stats programs were pretty conservative in how much memory they asked to be set aside for them. It was often something like 100MB. If your dataset was bigger than that allotment, you needed to tell the software to request more before you could even look at the data. It just wouldn't even transfer the data from storage into memory!\n",
    "<br>\n",
    "<br>\n",
    "There is less of a need today to be conservative like that because the cost and availability of memory and better means of dynamically alloting memory. But at the same time, data sets are getting bigger and if you're using one of these massive datasets, you might want to invest in more memory, or better yet, think about ways to structure your project in ways breaks the computations down into chunks that demands less memory.\n",
    "<br>"
   ]
  },
  {
   "cell_type": "markdown",
   "metadata": {},
   "source": [
    "<div style=\"font-size:1.25em\">\n",
    "**The Processor**\n",
    "<br>\n",
    "<br>\n",
    "<img src=\"images/Von_Neumann_architecture.png\" style=\"width:40%\">\n",
    "<br>\n",
    "<br>\n",
    "The above discussion of memory and storage gave some hints about what the processor (a.k.a. chip) is doing. It is the component that takes instructions and manipulates the states of a bunch of binary transitors (and I mean a [bunch](https://en.wikipedia.org/wiki/Transistor_count)--most of our computers have more than 3 billion of them) to map the input to an output via the given instructions. A processor is actually composed of several different sets of subunits. The two sets worth knowing about for this overview are the set comprising the _control_ unit and  the set comprising the _arithmetic__logic_ unit. The former controls the logical manipulations of the latter.\n",
    "<br>\n",
    "<br>\n",
    "This division is known as the Von Neumann architecture. It's common for personal computers, but not necessary. The image above shows the whole architecture but Von Neumann's contribution was the splitting of the processor (or _central processing unit_, CPU) into the _control_ and _arithmetic logic_ units. Our brains sometimes operate with a division something like this, but often do not. A lot of human logical manipulations don't need a controller and we should be glad about that. We wouldn't have made it very far as a species if we needed a control unit to tell some other unit to explicitly calculate that an input of a burning sensation from your hand should have an output of removing said hand from the fire. That \"logic\" is hardwired into our nervous system, likely even between the hand and the spinal cord. There are dedicated computer processors that work more like this, but personal computers need flexibility and therefore need a control unit.\n",
    "<br>\n",
    "<br>\n",
    "The control unit takes the next line of the instructions held in the memory, decodes it, finds the operands (variables) in memory and retrieves them while keeping track of where in the instructions it currently is. __This process is really the heart of computation and programming.__ The mathematics of binary operators are beautiful and the true foundation of computing, but there is little value in understanding them. Similarly, as humans out in the world, we don't really know or care how our brains add 2 and 2. You might be aware of some of the steps involved, but you don't experience the conversion of those visual signals into electrical impulses cascading down a network of neurons.\n",
    "<br>\n",
    "<br>\n",
    "It is our opinion that understanding those logical operations won't help you succeed in your career as a social scientist. Knowing that something has to take each line of the instructions you coded, find and get the relevant variables and ship them off to the arithmetic logic unit with the now-fully decoded instructions _*is*_ helpful. How? Well, to make the job of the control unit as easy as possible, some magic happens between you finishing your code (usually written in English) and the control unit getting instructions. This dark art is the _**translation**_ process.\n",
    "    \n",
    "<br>\n",
    "</div>"
   ]
  },
  {
   "cell_type": "markdown",
   "metadata": {},
   "source": [
    "<br>\n",
    "<br>\n",
    "\n",
    "## Translation, or getting machines to read\n",
    "<br>\n",
    "<div style=\"font-size:1.25em\">\n",
    "What we do as (social) scientists is write **source** code in a _high-level_ programming language. Much of that code is in English, sometimes by the choice of the designer of the language, sometimes by our choice of variable and function names. **But computers can't read English or any human language** so our source code needs to be converted into **machine code**, (very long) strings of **1**s and **0**s.\n",
    "<br>\n",
    "<br>\n",
    "That process of conversion is called **translation** and can be done according to several different paradigms, each with multiple steps. [See this _stackoverflow_ answer if you want to know more about the steps.](https://stackoverflow.com/questions/466790/assembly-code-vs-machine-code-vs-object-code) We don't need to cover those details, but it's definitely worth talking generally about features of the process because it often does important unpacking of code and memory optimization. Furthermore, it is the resulting machine code that determines efficiency. You don't need to keep these facts in mind as you code, but from them you can derive some core principles of good coding. We'll now work our way to these principles via some toy examples.\n",
    "<br>\n",
    "<br>\n",
    "</div>"
   ]
  },
  {
   "cell_type": "markdown",
   "metadata": {},
   "source": [
    "### Understanding the unpacking of source code, with examples\n",
    "<div style=\"font-size:1.25em\">\n",
    "<br>\n",
    "Consider our list of numbers from before; 11, 24, 37, 50. Let's find the sum of it again. Below are two different Python code chunks that do it, but first some Python syntax notes.\n",
    "<br>\n",
    "<br>\n",
    "What you need to know to get started reading Python is that an `=` sign is the assignment operator, not an expression of equality. On the lefthand side of the `=` sign is a variable name, which can't have spaces between characters, other operators (e.g. `+, -, *`), or the **keywords** already claimed by Python (e.g. `for`, `if`, `sum`).  On the righthand side is what is being assigned to that variable. It can be almost anything you could think of, as long as that thing either already exists or you're simultaneously telling Python how to create it. Numbers, and a bunch of other things, are what are known as **native** types in Python and therefore already exist as **objects**. Thus `first_number = 11` assigns the integer 11 to a variable named `first_number`. Now if we ask what the value of `first_number` is, we'll get `11`.\n",
    "<br>\n",
    "<br>\n",
    "Finally, to run the code in this _notebook_, you need to click into the _cell_ and then can either use the ` >| Run ` button above in the header or type `shift+enter`. This is a feature of the notebook and not Python itself.\n",
    "<br>\n",
    "<br>\n",
    "Run the following code to see this assignment:\n",
    "</div>"
   ]
  },
  {
   "cell_type": "code",
   "execution_count": 1,
   "metadata": {},
   "outputs": [
    {
     "name": "stdout",
     "output_type": "stream",
     "text": [
      "11\n"
     ]
    }
   ],
   "source": [
    "first_number = 11\n",
    "print(first_number)"
   ]
  },
  {
   "cell_type": "markdown",
   "metadata": {},
   "source": [
    "<div style=\"font-size:1.25em\">\n",
    "In Python, objects can be put into a **list** by simply sandwiching them between square brackets, `[ ]`, and separating the objects with commas. So `[11, 24, 37, 50]` is a list of numbers. Note that `[first_number, 24, 37, 50]` creates the same list (in this limited example).\n",
    "<br>\n",
    "<br>\n",
    "Below there are lines that contain the `#` symbol. When Python sees `#`, it knows to ignore the remainder of that line. This is one of the ways we can write comments explaining the code.\n",
    "<br>\n",
    "<br>\n",
    "Ok, let's calculate the sum.\n",
    " \n",
    "\n",
    "</div>\n",
    "### Method 1"
   ]
  },
  {
   "cell_type": "code",
   "execution_count": 2,
   "metadata": {},
   "outputs": [
    {
     "name": "stdout",
     "output_type": "stream",
     "text": [
      "122\n"
     ]
    }
   ],
   "source": [
    "\n",
    "# Step 1: We create a variable to track a running total\n",
    "running_total = 0\n",
    "\n",
    "# Step 2: sum two numbers and (re-)assign the new value to our running total variable\n",
    "running_total = running_total + 11\n",
    "\n",
    "\n",
    "# Step 3: repeat\n",
    "running_total = running_total + 24\n",
    "  \n",
    "# Step 4: repeat\n",
    "running_total = running_total + 37\n",
    "\n",
    "# Step 5: repeat\n",
    "running_total = running_total + 50\n",
    "\n",
    "# print() is a native Python function that outputs something about an object, here the stored value\n",
    "print(running_total)\n"
   ]
  },
  {
   "cell_type": "markdown",
   "metadata": {},
   "source": [
    "### Method 2"
   ]
  },
  {
   "cell_type": "code",
   "execution_count": 3,
   "metadata": {},
   "outputs": [
    {
     "name": "stdout",
     "output_type": "stream",
     "text": [
      "122\n"
     ]
    }
   ],
   "source": [
    "\n",
    "# sum() is a native Python function that finds the sum of the list you give to it\n",
    "our_sum = sum( [11, 24, 37, 50] )\n",
    "\n",
    "print(our_sum)\n"
   ]
  },
  {
   "cell_type": "markdown",
   "metadata": {},
   "source": [
    "<div style=\"font-size:1.25em\">\n",
    "These two methods are transparently different in the source code but get translated into _**(nearly) identical machine code!**_\n",
    "<br>\n",
    "<br>\n",
    "__Why is that?__ It happens because (current) logical operations can only deal with two numbers at a time. There is no operator that can simulatenously sum four numbers, so the task gets broken down stepwise as it gets passed to the processor. That stepwise breakdown can happen a variety of ways, which exactly depends on the nature of the task. For something as simple as this task, it is easiest to unpack `sum( )` into sequential additions. \n",
    "The control unit instructs the creation of a variable to track the running total and goes over each value to add it to the running total. This is the unpacking part of translation and the first method didn't actually require any unpacking because that is how the task would be translated.\n",
    "<br>\n",
    "<br>\n",
    "__Why should you care?__ Because there are a lot of different looking source code that is functionally equivalent on the level of machine code. `print(11+24+37+50)` is also equivalent to the first two methods. So you can see that just because you manage to write a chunk of source code in, say, a single line doesn't necessarily make it superior to a functionally equivalent chunk of code that takes a few lines. Now if you have to sum a list of 100 values, you clearly don't want to code that up like in the first method in spite of the fact that could become that in machine code.\n",
    "<br>\n",
    "<br>\n",
    "**You should put a premium on transparency!**\n",
    "<br>\n",
    "<br>\n",
    "__Because source code often becomes rather unruly machine code anyway, you should focus on making what you are doing transparent, both for your future self and anyone else who might look at the code. There is still plenty of latitude to present your logic clearly--there often is **no single most transparent way** to do a computational task--but it happens that often **the thing that is most transparent to you will be transparent to others.**__\n",
    "<br>\n",
    "<br>\n",
    "With the minimal example above, this discussion might be too abstract. Let's make the point clearly by taking a look at the three ways of calculating the mean and standard deviation of the same list. Run each code chunk, check the results and rank the methods from best to worst.\n",
    "<br>\n",
    "<br>\n",
    "**Method 1**\n",
    "</div>\n"
   ]
  },
  {
   "cell_type": "code",
   "execution_count": 7,
   "metadata": {},
   "outputs": [
    {
     "ename": "IndentationError",
     "evalue": "expected an indented block (<ipython-input-7-12ddcff1ffcb>, line 12)",
     "output_type": "error",
     "traceback": [
      "\u001b[0;36m  File \u001b[0;32m\"<ipython-input-7-12ddcff1ffcb>\"\u001b[0;36m, line \u001b[0;32m12\u001b[0m\n\u001b[0;31m    squared_diffs_running_total += (value-average)**2 # ** is the power operator\u001b[0m\n\u001b[0m                              ^\u001b[0m\n\u001b[0;31mIndentationError\u001b[0m\u001b[0;31m:\u001b[0m expected an indented block\n"
     ]
    }
   ],
   "source": [
    "\n",
    "our_list = [11, 24, 37, 50]\n",
    "\n",
    "total = sum(our_list)\n",
    "term_count = len(our_list) # len() is a native function that returns the length of the list\n",
    "\n",
    "average = total / term_count # / is the division operator\n",
    "\n",
    "# Now we calculate the standard deviation\n",
    "squared_diffs_running_total = 0\n",
    "for value in our_list: # this is a \"for loop\". It does the same thing for every item in the list. We'll cover more later\n",
    "    squared_diffs_running_total += (value-average)**2 # ** is the power operator\n",
    "\n",
    "average_squared_diff = squared_diffs_running_total / term_count\n",
    "\n",
    "standard_deviation = average_squared_diff **.5 # raising to the 1/2 power is the same as the square root\n",
    "\n",
    "print(average, standard_deviation)\n"
   ]
  },
  {
   "cell_type": "markdown",
   "metadata": {},
   "source": [
    "# Header "
   ]
  },
  {
   "cell_type": "markdown",
   "metadata": {},
   "source": [
    "<div style=\"font-size:1.25em\">**Method 2**</div>"
   ]
  },
  {
   "cell_type": "code",
   "execution_count": 8,
   "metadata": {},
   "outputs": [
    {
     "name": "stdout",
     "output_type": "stream",
     "text": [
      "30.5 14.534441853748634\n"
     ]
    }
   ],
   "source": [
    "a = [11, 24,37,50]\n",
    "\n",
    "# totally valid python \n",
    "print(sum(a)/len(a),(sum([(i-sum(a)/len(a))**2 for i in a])/len(a))**.5)"
   ]
  },
  {
   "cell_type": "markdown",
   "metadata": {},
   "source": [
    "<div style=\"font-size:1.25em\">**Method 3**</div>"
   ]
  },
  {
   "cell_type": "code",
   "execution_count": 6,
   "metadata": {},
   "outputs": [
    {
     "name": "stdout",
     "output_type": "stream",
     "text": [
      "30.5 14.534441853748634\n"
     ]
    }
   ],
   "source": [
    "\n",
    "our_list = [11, 24, 37, 50]\n",
    "\n",
    "average = sum(our_list)/len(our_list)\n",
    "\n",
    "sum_of_squares = 0\n",
    "for value in our_list:\n",
    "    sum_of_squares += (value - average)**2\n",
    "    \n",
    "standard_dev = (sum_of_squares / len(our_list))**.5\n",
    "\n",
    "print(average, standard_dev)  "
   ]
  },
  {
   "cell_type": "markdown",
   "metadata": {},
   "source": [
    "<div style=\"font-size:1.25em\">\n",
    "All three of these get the same task done, as you can verify by running the code. So which is the best __of the three__?\n",
    "    \n",
    "<br>\n",
    "<br>\n",
    "The logic is clear in the first method...perhaps too clear. It creates variables that weren't needed to clarify the operation, i.e. `total`, because `sum(our_list)` is clear enough.\n",
    "<br>\n",
    "<br>\n",
    "The second method is terrible coding. It does get the result, but it is hard to read. It uses uninformative variable names to cram everything together and omitted visually helpful, but technically optional, whitespace. More importantly, this code is __less efficient__ than the other two because it calculated the average of the list **5** times in order to get everything on the same line. The translation process won't reduce that to the (nearly) identical machine code of the other two; it will in fact be longer. The process of translation will clean up some aspects of your code, but not bone-headed things like recalculating something instead of saving the resulting value to a variable. And yet, there are people who put a premium on the number of lines in their code! Maybe it's a vestigial practice from the days of when programs existed on punch cards, but in my opinion it is trolling and/or exclusionary pendanticism (i.e. \"eschew obfuscation!\"). **Don't be someone who spends your precious time needlessly compacting code!**\n",
    "<br>\n",
    "<br>\n",
    "Now why is the third better than the first? The logic is still easy to breakdown sequentially, but it has shorter yet still clear variable names, and it forgos the creation of variables of questionable value. It isn't commented, which is bad form, but we're currently commenting only to explain Python terms and syntax.\n",
    "<br>\n",
    "<br>\n",
    "### An important note about Method 2\n",
    "Method 2 uses a formalism popularized by Python called _list comprehension_. It's this part:\n",
    "<br>\n",
    "<br>\n",
    "`[(i-sum(a)/len(a))\\*\\*2 for i in a]`\n",
    "<br>\n",
    "<br>\n",
    "There are aspects of list comprehension that are truly beautiful, but here it just compacts and moves a _for loop_ into a list. If we assign the list it makes to a variable named `new_list`, it is equivalent to:\n",
    "<br>\n",
    "<br>\n",
    "`new_list = []`<br>\n",
    "`for i in a:`<br>\n",
    "&nbsp;&nbsp;&nbsp;&nbsp;&nbsp;&nbsp;&nbsp;&nbsp;`new_list.append( (i - sum(a)/len(a)\\*\\*2 ))`\n",
    "<br>\n",
    "<br>    \n",
    "Because Python supports _list comprehensions_, there are people who consider it the _proper_ _Pythonic_ way of writing simple for loops in Python. Once you've seen enough _list comprehension_ examples, they get easy to read and you'll appreciation their elegance. But I hate discussions around the _proper_ way to write something. Jerks on forums use it to feel better about themselves at other's expense. **Ignore that noise**. You can appreciate the work that the designers put into a language to make it do cool things like list comprehension, but if it gets converted into similar machine code and you find a more verbose way of writing the code more transparent--to you or your audience--you should have no reservation in using the more verbose approach. "
   ]
  },
  {
   "cell_type": "markdown",
   "metadata": {},
   "source": [
    "### Translation, Part 2: Understanding memory allocation\n",
    "\n",
    "<div style=\"font-size:1.25em\">\n",
    "<br>\n",
    "Another thing the translation process does is try to efficiently allocate your computer's memory. How this proceeds depends on the language type you are using and your system. Those details don't matter to us. What matters is understanding that translation tries use space in memory only when it's needed.\n",
    "<br>\n",
    "<br>\n",
    "Think of your computer's memory as a bookshelf. It is finite in size and only one book can occupy a given amount of room. Furthermore, different books take up different amounts of room. Now say you have only three books; _Harry Potter and the Sorcerer's Stone_, Winship and Morgan's [_Counterfactuals and Causal Inference: Methods and Principles for Social Research_](http://admin.cambridge.org/academic/subjects/sociology/sociology-general-interest/counterfactuals-and-causal-inference-methods-and-principles-social-research-2nd-edition), and [_Beowulf_](https://en.wikipedia.org/wiki/Beowulf). The translation process is going to look at all of your life and come to the following conclusions:\n",
    "<br>\n",
    "<br>\n",
    "Harry Potter is purchased in elementary school and gets used a lot early on, not touched for twenty years, then briefly returned to, obviously to summon courage and dark magics before your job talks.\n",
    "<br>\n",
    "<br>\n",
    "Counterfactuals and Causual Inference is purchased and used heavily in grad school and never again.\n",
    "<br>\n",
    "<br>\n",
    "_Beowulf_ is purchased in high school and never opened. You always meant to read it but then real life happened.\n",
    "<br>\n",
    "<br>\n",
    "Based on those conclusions, the translation process would allocate a spot on the shelf for _Harry Potter_ from when you first get it until after your job talks. It would only allocate a spot for _Counterfactuals and Causal Inference_ during your grad school years. __But it wouldn't ever allocate a spot to _Beowulf_ because it is never used!__ In fact, all references to _Beowulf_ would likely be removed from the machine code.\n",
    "<br>\n",
    "<br>\n",
    "Where this process interacts with how you write your code is when you actually look at _Beowulf_ one afternoon in your retirement. If the translator sees this, it is going to have to allocate a spot on the shelf for _Beowulf_ from high school until the day you flip through some pages. This is not a good use of shelf space.\n",
    "<br>\n",
    "<br>\n",
    "Having _Beowulf_ on your shelf for 60 years when you use it for 60 minutes one day is bad practice, at least from an optimization perspective. The same principle applies to the objects in your code. Translation gets rid of stuff you never use, but you shouldn't rely on translation to allocate memory just when you need it.\n",
    "<br>\n",
    "<br>\n",
    "Now, the availibility of cheap memory has made the memory allocation problem less pressing. You can be sloppy and not see much of an effect on total run time. Where the principle of good memory allocation interacts with programming practice is around the topic of __variable scope__.\n",
    "</div>  \n",
    "<br>\n",
    "<br>"
   ]
  },
  {
   "cell_type": "markdown",
   "metadata": {},
   "source": [
    "### Variables, namespace and scope\n",
    "<div style=\"font-size:1.25em\">   \n",
    "Thinking about variable scopes is important for a variety of reasons. To get to these points, we'll first need to take a detour to explain how the objects in your code actually get stored. This topic is actually one of the first that can really help you understand programming at a deep level. If it makes sense to you, you've made great progress. But don't worry if it doesn't fall into place just yet! Repetition is key for a lot of this stuff and it will make more sense over time.\n",
    "<br>\n",
    "<br>\n",
    "When you run code like `Westbrook_slogan = \"Why Not?\"`, something called a __variable__ is created. The variable is a pair comprised of the thing actually stored in memory and the symbolic name you've given it. For `Westbrook_slogan = \"Why Not?\"`, the symbolic name is `Westbrook_slogan` and the thing stored in memory is `\"Why Not?\"`. When it comes time for your processor to actually do a task, it finds the symbolic name first in order to get the memory address and then fetchs the contents of that memory location.\n",
    "<br>\n",
    "<br>\n",
    "This concept of a _variable_ is pretty straightforward in isolation. It starts to get more complicated when you think about how your computer handles a bunch of variables across a whole sequence of tasks. This is where the concepts of a _namespace_ and (variable) _scope_ come in. We'll illustrate this below, but first we need to be introduced to _functions_. \n",
    "<br>\n",
    "<br>\n",
    "For now what you need to know is that a function packages up a routine and gives it a name. If you're going to go through a routine multiple times, you should create a function. Often functions take inputs, or _parameters_, and return a value. There are cases when you wouldn't need inputs, outputs, or either, but we can save those for later.\n",
    "<br>\n",
    "<br>\n",
    "<br>\n",
    "Below is a very simple function named `square`. (It's so simple that normally you wouldn't bother to define it.)<br>\n",
    "`def` is a Python specific keyword for defining a function. \n",
    "<br>`square` is the name. `number` is a parameter that gets passed to the function when it is called. \n",
    "<br>`return` is the Python keyword that establishes what the function should output.\n",
    "<br><br>\n",
    "Run the code below. Nothing visibly happens, but the function is created.<br>"
   ]
  },
  {
   "cell_type": "code",
   "execution_count": 9,
   "metadata": {},
   "outputs": [],
   "source": [
    "\n",
    "# The next two lines define the function square()\n",
    "def square(whatever):\n",
    "    new_number = whatever**2\n",
    "    print(new_number)\n",
    "    return new_number"
   ]
  },
  {
   "cell_type": "markdown",
   "metadata": {},
   "source": [
    "Recall that `print()` prints something related to a variable. What exactly depends on the type of object the variable refers to.\n",
    "<br>\n",
    "<br>\n",
    "Let's try to print some variables:<br>"
   ]
  },
  {
   "cell_type": "code",
   "execution_count": 10,
   "metadata": {},
   "outputs": [
    {
     "name": "stdout",
     "output_type": "stream",
     "text": [
      "[11, 24, 37, 50]\n"
     ]
    }
   ],
   "source": [
    "print(a)"
   ]
  },
  {
   "cell_type": "markdown",
   "metadata": {},
   "source": [
    "If you've been working through this notebook sequentially, it should have printed `[11, 24, 37, 50]`. That's because we created a variable `a` earlier and it is still in the __namespace__ we're working in."
   ]
  },
  {
   "cell_type": "code",
   "execution_count": 16,
   "metadata": {},
   "outputs": [
    {
     "name": "stdout",
     "output_type": "stream",
     "text": [
      "<function square at 0x10fdb7400>\n"
     ]
    },
    {
     "data": {
      "text/plain": [
       "1"
      ]
     },
     "execution_count": 16,
     "metadata": {},
     "output_type": "execute_result"
    }
   ],
   "source": [
    "print(square)\n",
    "import math\n",
    "\n",
    "math.floor(1.34)"
   ]
  },
  {
   "cell_type": "markdown",
   "metadata": {},
   "source": [
    "Hey! It turns out that `square` itself is variable in the name space too! Unlike `a` which stores a value, `square` stores instruction."
   ]
  },
  {
   "cell_type": "code",
   "execution_count": 19,
   "metadata": {},
   "outputs": [
    {
     "name": "stdout",
     "output_type": "stream",
     "text": [
      "11\n",
      "121\n"
     ]
    },
    {
     "data": {
      "text/plain": [
       "121"
      ]
     },
     "execution_count": 19,
     "metadata": {},
     "output_type": "execute_result"
    }
   ],
   "source": [
    "print(first_number)\n",
    "\n",
    "a = square(first_number)"
   ]
  },
  {
   "cell_type": "markdown",
   "metadata": {},
   "source": [
    "Again, `first_number` is in the namespace from before. The second line passes `first_number` to the function `square`, which then squares the value, prints it, and returns it.\n",
    "<br>\n",
    "<br>\n",
    "Now try the following prints\n",
    "<br>"
   ]
  },
  {
   "cell_type": "code",
   "execution_count": 17,
   "metadata": {},
   "outputs": [
    {
     "name": "stdout",
     "output_type": "stream",
     "text": [
      "121\n"
     ]
    }
   ],
   "source": [
    "print(a)"
   ]
  },
  {
   "cell_type": "code",
   "execution_count": 18,
   "metadata": {},
   "outputs": [
    {
     "ename": "NameError",
     "evalue": "name 'new_number' is not defined",
     "output_type": "error",
     "traceback": [
      "\u001b[0;31m---------------------------------------------------------------------------\u001b[0m",
      "\u001b[0;31mNameError\u001b[0m                                 Traceback (most recent call last)",
      "\u001b[0;32m<ipython-input-18-e078897f5b7e>\u001b[0m in \u001b[0;36m<module>\u001b[0;34m()\u001b[0m\n\u001b[0;32m----> 1\u001b[0;31m \u001b[0mprint\u001b[0m\u001b[0;34m(\u001b[0m\u001b[0mnew_number\u001b[0m\u001b[0;34m)\u001b[0m\u001b[0;34m\u001b[0m\u001b[0m\n\u001b[0m",
      "\u001b[0;31mNameError\u001b[0m: name 'new_number' is not defined"
     ]
    }
   ],
   "source": [
    "print(new_number)"
   ]
  },
  {
   "cell_type": "markdown",
   "metadata": {},
   "source": [
    "<div style=\"font-size:1.25em\">\n",
    "<br>\n",
    "The first thing to notice is that the contents of `a` have changed. We've overwritten the variable pair to have the address part point to a different location in memory. If there is no longer a variable pair pointing to the area in memory that stored the thing that `a` used to be associated with, that memory will get cleaned up in short order. There is no way to that old list back without explicitely constructing it again.\n",
    "<br>\n",
    "<br>\n",
    "The easier thing to notice is the big red `NameError` stuff. We'll talk more about _debugging_ later, but we'll start by noting that errors like this often contain way more information than you need to solve the problem. You in fact should go straight to the last line of the error.\n",
    "<br>\n",
    "<br>\n",
    "The last line is `NameError: name 'new_number' is not defined`. In less technical terms, it says \"I looked for a variable named 'new_number' in the namespace but couldn't find one. Because I couldn't find it, I had to stop what I was trying to do.\n",
    "<br>\n",
    "<br>\n",
    "So reading the error isn't too bad, but wait! Didn't we create a variable named `new_number` in the `square` function? We did! We know that because we called `print(new_number)` inside the function and it printed it.\n",
    "<br>\n",
    "<br>\n",
    " <h4>Local vs Global variables</h4>\n",
    "\n",
    "So what has happened? Well `new_number` is _narrowly_ scoped. It is a local variable and is only accessible within the scope of the function that uses it, `square`. It get created after `square` is called and removed from the namespace and memory once the function has been completed. Variables that exist outside of the scope of a single function are called _global_ variables.\n",
    "<br>\n",
    "<br>\n",
    "The fact that `new_number` gets deleted might be a little confusing because it looks like the function returns the variable to somewhere else. That is close to true, but it actually _returns only the memory address_ and looks for a new name on the other side of the function call. We happened to create a new variable pair of `a` and the memory location returned by the function.\n",
    "<br>\n",
    "<br>\n",
    "So at that point the `new_number` variable isn't need and is removed from the namespace. That's why we got the `NameError` error. Furthermore that's why `a` is now equal to `11**2` and not the list it pointed to before. That's because there can't be multiple variables with the same name. When we asked that `a` point to `121`, the name-address pair pointing to the list `[11, 24, 37, 50]` was lost and the list got abandoned in memory.\n",
    "<br>\n",
    "<br>\n",
    "The reason this happens is that programs can end up using thousands, if not millions, of local variables. Two things would happen if these variables weren't shortlived. First, you'd probably end up reusing variable names and overwriting something you don't really want to. __Those types of mistakes are the worst type in programming!__ With something like a `NameError` everything stops because the program/script can't proceed without the value it was supposed to get (called generically a _runtime_ error). But if you overwrite a variable with a new one of a compatible type, no _runtime_ error occurs. You just get the wrong answer and likely won't realize it. Bigly bad!\n",
    "<br>\n",
    "<br>\n",
    "Even if you avoided this with a well-structured naming system, you'd still have the second problem of using too much memory. You don't need those intermediate states just like you don't need all your old yogurt containers. You got what you needed and it's time to recycle them instead of leaving them around in the way. \n",
    "<br>\n",
    "<br>\n",
    "</div>"
   ]
  },
  {
   "cell_type": "markdown",
   "metadata": {},
   "source": [
    "<div style=\"font-size:1.25em\">\n",
    "    \n",
    "<h4>References</h4>\n",
    "<br>\n",
    "<br>\n",
    "We hope the basics of variables are now clear. Fortunately from a programming standpoint, unfortunately from a learning standpoint, they can get more complicated. We can't cover everything, but there is one major pitfall we want to point out.\n",
    "<br>\n",
    "<br>\n",
    "Look and the code below and try to predict what will be printed before running it.\n",
    "<br>\n",
    "<br>\n",
    "</div>"
   ]
  },
  {
   "cell_type": "code",
   "execution_count": 20,
   "metadata": {},
   "outputs": [
    {
     "name": "stdout",
     "output_type": "stream",
     "text": [
      "[-1, 2]\n",
      "[-1, 2]\n"
     ]
    }
   ],
   "source": [
    "list_one = [1, 2]\n",
    "\n",
    "list_two = list_one\n",
    "\n",
    "list_one[0] = -1 # this replaces the first element of the list\n",
    "\n",
    "print(list_one)\n",
    "print(list_two)"
   ]
  },
  {
   "cell_type": "markdown",
   "metadata": {},
   "source": [
    "<div style=\"font-size:1.25em\">\n",
    "\n",
    "You may have been expecting `list_two` to contain the list `[1, 2]`. By line three it looks like it is paired with just such a list. It wasn't actually. It was paired with the variable name `list_one`. Recalling that a variable is a pair of a symbolic name and an object stored in memory, the first variable is **(list_one, \\[1, 2\\])**. _But a symbolic name is actually an object in memory!_ So the second variable pair is **(list_two, list_two)** and ultimately looks at exactly the same spot in memory that `list_one` does.\n",
    "The pointer `list_two` will follow the pointer `list_one` around wherever it goes.\n",
    "<br>\n",
    "<br>\n",
    "</div>"
   ]
  },
  {
   "cell_type": "code",
   "execution_count": 21,
   "metadata": {},
   "outputs": [
    {
     "name": "stdout",
     "output_type": "stream",
     "text": [
      "[-1, 2]\n",
      "[1, 2]\n"
     ]
    }
   ],
   "source": [
    "list_one = [1, 2]\n",
    "\n",
    "list_two = list(list_one)\n",
    "\n",
    "list_one[0] = -1\n",
    "\n",
    "print(list_one)\n",
    "print(list_two)"
   ]
  },
  {
   "cell_type": "code",
   "execution_count": null,
   "metadata": {},
   "outputs": [],
   "source": []
  }
 ],
 "metadata": {
  "kernelspec": {
   "display_name": "Python 3",
   "language": "python",
   "name": "python3"
  },
  "language_info": {
   "codemirror_mode": {
    "name": "ipython",
    "version": 3
   },
   "file_extension": ".py",
   "mimetype": "text/x-python",
   "name": "python",
   "nbconvert_exporter": "python",
   "pygments_lexer": "ipython3",
   "version": "3.6.5"
  }
 },
 "nbformat": 4,
 "nbformat_minor": 2
}
