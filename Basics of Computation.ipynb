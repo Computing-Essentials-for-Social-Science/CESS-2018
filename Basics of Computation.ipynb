{
 "cells": [
  {
   "cell_type": "markdown",
   "metadata": {},
   "source": [
    "\n",
    "<span style=\"font-size:3em;text-align:center;display:block;padding-top:2em\"> \n",
    "The Basics of Computation</span>\n",
    "<br><span style=\"font-size:1.5em;text-align:center;display:block;padding:2em\"> CESS 2018<br><br>\n",
    "Jon Atwell and Chris Skovron\n",
    "</span>\n",
    "\n"
   ]
  },
  {
   "cell_type": "markdown",
   "metadata": {},
   "source": [
    "<div style=\"font-size:1.25em\">\n",
    "<br>\n",
    "Most introductions to programming start by having you focus on how to get simple tasks done without explaining what is happening behind the scenes, the actual process of computation. You can absolutely learn programming that way, but in our opinion it is like learning to run regressions before understanding the <em> central limit theorem</em>; you can get interesting results, but eventually someone or something is going to ask you to clarify or fix your process and you won't be able to.\n",
    "<br>\n",
    "<br>\n",
    "While it would be foolish to try distill a quarter's worth of Computer Science 101 into a 90 minute tutorial, this one is going to attempt to clarify what your computer is doing when you execute code. We take the view that knowing a bit more about the process of computation helps to properly contextualize the writing of code as a social skill. The same relationship exists between human communication and human language; the more you come to see successful communication as the goal, the better you'll become at using language to achieve your goals. Learning to better express yourself requires first learning to see your utterances as just the first step in the process of communication and knowing more about the subsequent steps should condition how you take that first step. Thankfully, just as there many ways to successfully use human language, there are many equally good ways to code up a computational task. But recognizing a good way to code is easier if you understand more about what happens once you actually run your code, so we'll start with the basics of computation.\n",
    "<br>\n",
    "<br>\n",
    "    \n",
    "This tutorial will try to be as language agnostic as possible, but it is important to be able to run some code live, so parts of it are written in Python. Those sections will be well-commented and even a complete novice will be able to make sense of code.\n",
    "<br>\n",
    "</div>"
   ]
  },
  {
   "cell_type": "markdown",
   "metadata": {},
   "source": [
    "<br>\n",
    "<br>\n",
    "## Main components of a computer"
   ]
  },
  {
   "cell_type": "markdown",
   "metadata": {},
   "source": [
    "<div style=\"font-size:1.25em\">\n",
    "Let's assume you already have a dataset and script to analysis the data in some way. What needs to happen in your machine to get the results after you run the script? We'll start with the basic architecture of a computer.\n",
    "<br>"
   ]
  },
  {
   "cell_type": "markdown",
   "metadata": {},
   "source": [
    "#### A schematic of the main components\n",
    "(Image [from wikipedia](https://commons.wikimedia.org/wiki/File:CPT-System-Architecture-Stored-Program.svg))"
   ]
  },
  {
   "cell_type": "markdown",
   "metadata": {},
   "source": [
    "<img src=\"images/architecture.png\" style=\"width:80%\">"
   ]
  },
  {
   "cell_type": "markdown",
   "metadata": {},
   "source": [
    "<div style=\"font-size:1.25em\">There are three basic parts of a computer as a computing machine: storage, memory, and the processor. You know at least something about all of these because you bought your computer by looking at its specs, like the **GHz** (speed) of the processor, the **GB** (size) of memory and the **GB** (size) of storage. More is better for all of these and the digital age we live in has been enabled by the fact that _more_ kept getting cheaper and physically smaller. (Although Moore's Law [may cease to hold soon.](https://eandt.theiet.org/content/articles/2017/05/moore-s-law-2017-an-uphill-battle/)) </div>"
   ]
  },
  {
   "cell_type": "markdown",
   "metadata": {},
   "source": [
    "<div style=\"font-size:1.25em\">\n",
    "<br>\n",
    "_But how do these work together?_\n",
    "<br>\n",
    "<br>\n",
    "**Memory and Storage**\n",
    "<br>\n",
    "<br>\n",
    "A first helpful thing to know is the difference between __memory__ and __storage__. These days they're both measured in _gigabytes_ and actually do roughly the same thing, that is, store information. So why do we make a distinction between the two? Well, remember back in high school when you crammed for a history test, probably aced it, and then within two weeks couldn't easily remember the significance, year--maybe even location--of the _Philadelphia Convention_? Just like a computer, we generally don't hold information at the ready if we aren't going to use it soon. If you're a real scholar, you were able to make sure all those historical facts made it into longterm storage. Lots of people who just crammed ended up deleting the content of their memory, either immediately or over the next couple of years.  \n",
    "<br>\n",
    "For computers, there are energy costs associated with keeping information at the ready in __memory__ and time costs associated with getting it out of __storage__, so computers need to strike the right balance in where information is stored. Furthermore, there always needs to be more memory available than the amount of information brought in from storage because computations themselves make use of memory as they hold information about intermediate states that won't be needed later.\n",
    "<br>\n",
    "<br>\n",
    "Intermediate states are very common. Say you want the sum of the following numbers; 11, 24, 37, 50. Your computer (and you probably) would sequentially add these up with a running total. The running total after the first two numbers, 35, is held as a local variable in memory and won't ever get sent to storage. Complex calculations can use up a lot of memory with these intermediate states (a.k.a. variables).\n",
    "<br>\n",
    "<br>\n",
    "So both storage and memory hold information but are distinguishable by how quickly the processor--we'll get to it next--can get to it. It's easy enough to add storage or move information into storage not directly attached to your computer (e.g. external hard drive), so what matters more for computation is the memory. You need enough of it hold all the information you need for a particular computation and to execute that computation. Without enough memory, the computation process breaks down. You may have encountered this problem if you've used older statistical software packages. Because anything running on your computer (music app, browsers, word processors, connections) are using memory, those stats programs were pretty conservative in how much memory they asked to be set aside for them. It was often something like 100MB. If your dataset was bigger than that allotment, you needed to tell the software to request more before you could even look at the data. It just wouldn't even transfer the data from storage into memory!\n",
    "<br>\n",
    "<br>\n",
    "There is less of a need today to be conservative like that because the cost and availability of memory and better means of dynamically alloting memory. But at the same time, data sets are getting bigger and if you're using one of these massive datasets, you might want to invest in more memory, or better yet, think about ways to structure your project in ways breaks the computations down into chunks that demands less memory.\n",
    "<br>"
   ]
  },
  {
   "cell_type": "markdown",
   "metadata": {},
   "source": [
    "<div style=\"font-size:1.25em\">\n",
    "**The Processor**\n",
    "<br>\n",
    "<br>\n",
    "<img src=\"images/Von_Neumann_architecture.png\" style=\"width:40%\">\n",
    "<br>\n",
    "<br>\n",
    "The above discussion of memory and storage gave some hints about what the processor (a.k.a. chip) is doing. It is the component that takes instructions and manipulates the states of a bunch of binary transitors (and I mean a [bunch](https://en.wikipedia.org/wiki/Transistor_count)--most of our computers have more than 3 billion of them) to map the input to an output via the given instructions. A processor is actually composed of several different sets of subunits. The two sets worth knowing about for this overview are the set comprising the _control_ unit and  the set comprising the _arithmetic__logic_ unit. The former controls the logical manipulations of the latter.\n",
    "<br>\n",
    "<br>\n",
    "This division is known as the Von Neumann architecture. It's common for personal computers, but not necessary. The image above shows the whole architecture but Von Neumann's contribution was the splitting of the processor (or _central processing unit_, CPU) into the _control_ and _arithmetic logic_ units. Our brains sometimes operate with a division something like this, but often do not. A lot of human logical manipulations don't need a controller and we should be glad about that. We wouldn't have made it very far as a species if we needed a control unit to tell some other unit to explicitly calculate that an input of a burning sensation from your hand should have an output of removing said hand from the fire. That \"logic\" is hardwired into our nervous system, likely even between the hand and the spinal cord. There are dedicated computer processors that work more like this, but personal computers need flexibility and therefore need a control unit.\n",
    "<br>\n",
    "<br>\n",
    "The control unit takes the next line of the instructions held in the memory, decodes it, finds the operands (variables) in memory and retrieves them while keeping track of where in the instructions it currently is. __This process is really the heart of computation and programming.__ The mathematics of binary operators are beautiful and the true foundation of computing, but there is little value in understanding them. Similarly, as humans out in the world, we don't really know or care how our brains add 2 and 2. You might be aware of some of the steps involved, but you don't experience the conversion of those visual signals into electrical impulses cascading down a network of neurons.\n",
    "<br>\n",
    "<br>\n",
    "It is our opinion that understanding those logical operations won't help you succeed in your career as a social scientist. Knowing that something has to take each line of the instructions you coded, find and get the relevant variables and ship them off to the arithmetic logic unit with the now-fully decoded instructions _*is*_ helpful. How? Well, to make the job of the control unit as easy as possible, some magic happens between you finishing your code (usually written in English) and the control unit getting instructions. This dark art is the _**translation**_ process.\n",
    "    \n",
    "<br>\n",
    "</div>"
   ]
  },
  {
   "cell_type": "markdown",
   "metadata": {},
   "source": [
    "<br>\n",
    "<br>\n",
    "\n",
    "## Translation, or getting machines to read\n",
    "\n",
    "<div style=\"font-size:1.25em\">\n",
    "What we do as (social) scientists is write **source** code in a _high-level_ programming language. Much of that code is in English, sometimes by the choice of the designer of the language, sometimes by our choice of variable and function names. **But computers can't read English or any human language** so our source code needs to be converted into **machine code**, (very long) strings of **1**s and **0**s.\n",
    "<br>\n",
    "<br>\n",
    "That process of conversion is called **translation** and can be done according to several different paradigms, each with multiple steps. [See this _stackoverflow_ answer if you want to know more about the steps.](https://stackoverflow.com/questions/466790/assembly-code-vs-machine-code-vs-object-code). We don't need to cover those details, but it's definitely worth talking generally about features of the process because it does important unpacking of code and memory optimization. Furthermore, it is the resulting machine code that determines efficiency. You don't need to keep these facts in mind as you code, but from them you can derive some core principles of good coding. We'll now work our way to these principles via some toy examples.\n",
    "<br>\n",
    "<br>\n",
    "</div>"
   ]
  },
  {
   "cell_type": "markdown",
   "metadata": {},
   "source": [
    "<div style=\"font-size:1.25em\">\n",
    "### Understanding translation with examples \n",
    "Consider our list of numbers from before; 11, 24, 37, 50. Let's find the sum of it again. Below are two different Python code chunks that do it, but first some Python syntax notes.\n",
    "<br>\n",
    "<br>\n",
    "What you need to know to get started reading Python is that an <code>=</code> sign is the assignment operator, not an expression of equality. On the lefthand side of the <code>=</code> sign is a variable name, which can't have spaces, other operators (e.g. <code>+, -, *</code>), or the **keywords** already claimed by Python (e.g. <code>for</code>, <code>if</code>, <code>sum</code>).  On the righthand side is what is being assigned to that variable. It can be almost any you could think of, as long as that thing either already exists or you're simultaneously telling Python how to create it. Numbers, and a bunch of other things, are what are known as **native** types in Python and therefore already exist as **objects**. Thus <code>first_number = 11</code> assigns the integer 11 to a variable named <code>first_number</code>. Now if we ask what the value of <code>a_number</code> is, we'll get 11.\n",
    "<br>\n",
    "<br>\n",
    "In Python, objects can be put into a **list** by simply sandwiching them between square brackets, <code>[ ]</code>, and separating the objects with commas. So <code>[11, 24, 37, 50]</code> is a list of numbers. Note that <code>[first_number, 24, 37, 50]</code> creates the same list (in this limited example).\n",
    "<br>\n",
    "<br>\n",
    "Below there are lines that contain the <code>#</code> symbol. When Python sees <code>#</code>, it knows to ignore the remainder of that line. This is one of the ways we can write comments explaining the code.\n",
    "<br>\n",
    "<br>\n",
    "Finally, to run the code in this _notebook_, you need to click into the _cell_ and then can either use the <code> >| Run </code> button above in the header or type <code>shift+enter</code>. This is a feature of the notebook and not Python itself.\n",
    "<br>\n",
    "<br>\n",
    "Ok, let's calculate the sum.\n",
    " \n",
    "\n",
    "</div>\n",
    "### Method 1"
   ]
  },
  {
   "cell_type": "code",
   "execution_count": null,
   "metadata": {},
   "outputs": [],
   "source": [
    "\n",
    "# Step 1: We create a variable to track a running total\n",
    "running_total = 0\n",
    "\n",
    "# Step 2: sum two numbers and (re-)assign the new value to our running total variable\n",
    "running_total = running_total + 11\n",
    "\n",
    "# Step 3: repeat\n",
    "running_total = running_total + 24\n",
    "  \n",
    "# Step 4: repeat\n",
    "running_total = running_total + 37\n",
    "\n",
    "# Step 5: repeat\n",
    "running_total += 50\n",
    "\n",
    "# print() is a native Python function that outputs something about an object, here the stored value\n",
    "print(running_total)\n"
   ]
  },
  {
   "cell_type": "markdown",
   "metadata": {},
   "source": [
    "### Method 2"
   ]
  },
  {
   "cell_type": "code",
   "execution_count": null,
   "metadata": {},
   "outputs": [],
   "source": [
    "\n",
    "# sum() is a native Python function that finds the sum of the list you give to it\n",
    "our_sum = sum( [11, 24, 37, 50] )\n",
    "\n",
    "print(our_sum)\n"
   ]
  },
  {
   "cell_type": "markdown",
   "metadata": {},
   "source": [
    "<div style=\"font-size:1.25em\">\n",
    " These two methods are transparently different in the source code but actually get translated into the _**identical machine code!**_\n",
    "<br>\n",
    "<br>\n",
    "__Why is that?__ It happens because (current) logical operations can only deal with two numbers at a time. There is no operator that can simulatenously sum four numbers, so the task gets broken down stepwise as it gets passed to the processor. The control unit instructs the creation of a variable to track the running total and goes over each value to add it to the running total. This is the unpacking part of translation and the first method didn't actually require any unpacking because that is how the task has to be translated.\n",
    "<br>\n",
    "<br>\n",
    "__Why should you care?__ Because there are a lot of different looking source code that is functionally equivalent on the level of machine code. <code>print(11+24+37+50)</code> is also equivalent to the first two methods. So you can see that just because you manage to write a chunk of source code in, say, a single line doesn't necessarily make it superior to a functionally equivalent chunk of code that takes a few lines. Now if you have to sum a list of 100 values, you clearly don't want to code that up like in the first method in spite of the fact that it becomes that in machine code.\n",
    "<br>\n",
    "<br>\n",
    "**You should put a premium on transparency!**\n",
    "<br>\n",
    "<br>\n",
    "__Because source code becomes rather unruly machine code anyway, you should focus on making what you are doing, both for your future self and anyone else who might look at the code. There is still plenty of latitude to present your logic clearly--there often is **no single most transparent way** to do a computational task--but it happens that often **the thing that is most transparent to you will be transparent to others.**__\n",
    "<br>\n",
    "<br>\n",
    "With the minimal example above, this discussion might be too abstract. Let's make the point clearly by taking a look at the three ways of calculating the mean and standard deviation of the same list. Run each code chunk, check the results and rank the methods from best to worst.\n",
    "<br>\n",
    "<br>\n",
    "**Method 1**\n",
    "</div>\n"
   ]
  },
  {
   "cell_type": "code",
   "execution_count": null,
   "metadata": {},
   "outputs": [],
   "source": [
    "our_list = [11, 24, 37, 50]\n",
    "\n",
    "total = sum(our_list)\n",
    "term_count = len(our_list) # len() is a native function that returns the length of the list\n",
    "\n",
    "average = total / term_count # / is the division operator\n",
    "\n",
    "# Now we calculate the standard deviation\n",
    "squared_diffs_running_total = 0\n",
    "for value in our_list: # this is a \"for loop\". It does the same thing for every item in the list. We'll cover more later\n",
    "    squared_diffs_running_total += (value-average)**2 # ** is the power operator\n",
    "\n",
    "average_squared_diff = squared_diffs_running_total / term_count\n",
    "\n",
    "standard_deviation = average_squared_diff **.5 # raising to the 1/2 power is the same as the square root\n",
    "\n",
    "print(average, standard_deviation)\n"
   ]
  },
  {
   "cell_type": "markdown",
   "metadata": {},
   "source": [
    "<div style=\"font-size:1.25em\">**Method 2**</div>"
   ]
  },
  {
   "cell_type": "code",
   "execution_count": null,
   "metadata": {},
   "outputs": [],
   "source": [
    "a = [11,24,37,50]\n",
    "\n",
    "# totally valid python \n",
    "print(sum(a)/len(a),(sum([(i-sum(a)/len(a))**2 for i in a])/len(a))**.5)"
   ]
  },
  {
   "cell_type": "markdown",
   "metadata": {},
   "source": [
    "<div style=\"font-size:1.25em\">**Method 3**</div>"
   ]
  },
  {
   "cell_type": "code",
   "execution_count": null,
   "metadata": {},
   "outputs": [],
   "source": [
    "our_list = [11, 24, 37, 50]\n",
    "\n",
    "average = sum(our_list)/len(our_list)\n",
    "\n",
    "sum_of_squares = 0\n",
    "for value in our_list:\n",
    "    sum_of_squares += (value - average)**2\n",
    "    \n",
    "standard_dev = (sum_of_squares / len(our_list))**.5\n",
    "\n",
    "print(average, standard_dev)"
   ]
  },
  {
   "cell_type": "markdown",
   "metadata": {},
   "source": [
    "<div style=\"font-size:1.25em\">\n",
    "All three of these get the same task done, as you can verify by running the code. So which is the best __of the three__?\n",
    "    \n",
    "<br>\n",
    "<br>\n",
    "The logic is clear in the first method...perhaps too clear. It creates variables that weren't needed to clarify the operation, i.e. <code>total</code>, because <code>sum(our_list)</code> is clear enough.\n",
    "<br>\n",
    "<br>\n",
    "The second method is terrible coding. It does get the result, but it is hard to read. It uses uninformative variable names to cram everything together and omitted visually helpful, but technically optional, whitespace. More importantly, this code is __far less efficient__ than the other two because it calculated the average of the list **5** times in order to get everything on the same line. The translation process won't reduce that to the (nearly) identical machine code of the other two; it will be substantially longer in fact. The process of translation will clean up some aspects of your code, but not bone-headed things like recalculating something instead of saving the resulting value to a variable. And yet, there are people who put a premium on the number of lines in their code! Maybe it's a vestigial practice from the days of when programs existed on punch cards, but in my opinion it is trolling and/or exclusionary pendanticism (i.e. \"eschew obfuscation!\"). **Don't be someone who spends your precious time needlessly compacting code!**\n",
    "<br>\n",
    "<br>\n",
    "Now why is the third better than the first? The logic is still easy to breakdown sequentially, but it has shorter yet still clear variable names, and it forgos the creation of variables of questionable value. It isn't commented, which is bad form, but we're currently commenting only to explain Python terms and syntax."
   ]
  },
  {
   "cell_type": "markdown",
   "metadata": {},
   "source": [
    "Translation\n",
    "    - cleaning up memory\n",
    "    - unpacking the code, into lines\n",
    "\n",
    "A programming language is a set of (hard) conventions around the following things.\n",
    "\n",
    "Namespace\n",
    "    - scoping variables\n",
    "    - containers\n",
    "    \n",
    "Repeating code\n",
    "    - native functions and key words\n",
    "        - arguments/parameters\n",
    "            - keywords\n",
    "            - implicit/explicit\n",
    "        - return/output\n",
    "    - writing custom functions\n",
    "\n",
    "Structuring processes\n",
    "    - flow controls\n",
    "        - for\n",
    "        - if then else\n",
    "        - if elif\n",
    "        - while\n",
    "        - break\n",
    "        \n",
    "Logical Evaluations\n",
    "\n",
    "\n"
   ]
  },
  {
   "cell_type": "markdown",
   "metadata": {},
   "source": [
    "<div style=\"font-size:1.25em\">Holder</div>"
   ]
  },
  {
   "cell_type": "markdown",
   "metadata": {},
   "source": [
    "\n",
    "<br>* <span style=\"font-size:.9em\">I like to use the term _machine_ to refer to the processing core of the whole thing we often just call a _computer_. With cluster or cloud computing, you might have a _machine_--or actually many--doing your computations, but it feels weird to call those physical things computers.</span><br>\n",
    "\n",
    "Pointers / Namespace\n",
    "\n",
    "and that's why the gaming industry developed specialized __graphical processing units__, aka __GPUs__. By speeding up memory operations, __GPUs__ allowed for an increase in the complexity of the calculations used to create visuals. __GPUs__ have gotten so much better than the more standard __central processing units__, aka __CPUs__, that most computational intensive tasks are now run on __GPUs__. \n",
    "</div>"
   ]
  }
 ],
 "metadata": {
  "kernelspec": {
   "display_name": "Python 3",
   "language": "python",
   "name": "python3"
  },
  "language_info": {
   "codemirror_mode": {
    "name": "ipython",
    "version": 3
   },
   "file_extension": ".py",
   "mimetype": "text/x-python",
   "name": "python",
   "nbconvert_exporter": "python",
   "pygments_lexer": "ipython3",
   "version": "3.6.5"
  }
 },
 "nbformat": 4,
 "nbformat_minor": 2
}
